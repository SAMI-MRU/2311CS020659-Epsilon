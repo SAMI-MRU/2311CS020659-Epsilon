{
  "nbformat": 4,
  "nbformat_minor": 0,
  "metadata": {
    "colab": {
      "provenance": []
    },
    "kernelspec": {
      "name": "python3",
      "display_name": "Python 3"
    },
    "language_info": {
      "name": "python"
    }
  },
  "cells": [
    {
      "cell_type": "code",
      "source": [
        "import pandas as pd\n",
        "screen_time = [5, 4, 3, 2, 1]\n",
        "stu_name = [\"thrishanth\"]* len(screen_time)\n",
        "id = [1, 2, 3, 4, 5]\n",
        "dict1 = {\"screen_time\": screen_time, \"stu_name\": stu_name, \"id\": id}\n",
        "df = pd.DataFrame(dict1)\n",
        "print(dict1)"
      ],
      "metadata": {
        "colab": {
          "base_uri": "https://localhost:8080/"
        },
        "id": "aAKtWlrjrYPp",
        "outputId": "c299d511-315b-4a7b-c972-bba17f79b395"
      },
      "execution_count": null,
      "outputs": [
        {
          "output_type": "stream",
          "name": "stdout",
          "text": [
            "{'screen_time': [5, 4, 3, 2, 1], 'stu_name': ['thrishanth', 'thrishanth', 'thrishanth', 'thrishanth', 'thrishanth'], 'id': [1, 2, 3, 4, 5]}\n"
          ]
        }
      ]
    },
    {
      "cell_type": "code",
      "source": [
        "list =[1,2,3,4,5]\n",
        "iterate_var=iter(list)\n",
        "print(iterate_var)"
      ],
      "metadata": {
        "id": "QNHPE3oZrQru",
        "colab": {
          "base_uri": "https://localhost:8080/"
        },
        "outputId": "47466663-2f12-4d71-c205-39802ed3f134"
      },
      "execution_count": null,
      "outputs": [
        {
          "output_type": "stream",
          "name": "stdout",
          "text": [
            "<list_iterator object at 0x7baa3cdd33d0>\n"
          ]
        }
      ]
    },
    {
      "cell_type": "code",
      "source": [
        "for i in iterate_var:\n",
        "  if i % 2 == 0:\n",
        "    print(i)"
      ],
      "metadata": {
        "id": "UI360m0Noszg",
        "colab": {
          "base_uri": "https://localhost:8080/"
        },
        "outputId": "1f725953-3149-4ab1-a280-20438a18d5c9"
      },
      "execution_count": null,
      "outputs": [
        {
          "output_type": "stream",
          "name": "stdout",
          "text": [
            "2\n",
            "4\n"
          ]
        }
      ]
    },
    {
      "cell_type": "code",
      "source": [
        "def square(i):\n",
        "  for i in range(i):\n",
        "    i = i + 2\n",
        "  return i\n",
        "res = square(10)\n",
        "print(res)"
      ],
      "metadata": {
        "colab": {
          "base_uri": "https://localhost:8080/"
        },
        "id": "aRFVADL22GNX",
        "outputId": "4d8f3e5d-24e1-46f7-bc28-b78d2eb272f8"
      },
      "execution_count": null,
      "outputs": [
        {
          "output_type": "stream",
          "name": "stdout",
          "text": [
            "11\n"
          ]
        }
      ]
    },
    {
      "cell_type": "code",
      "source": [
        "result = lambda x,y,z: x*y*z\n",
        "print(result(10,20,30))"
      ],
      "metadata": {
        "id": "4HOpy2jV2Xn3",
        "colab": {
          "base_uri": "https://localhost:8080/"
        },
        "outputId": "16cccadb-f2b2-400e-e38e-f3b44f45cd3a"
      },
      "execution_count": null,
      "outputs": [
        {
          "output_type": "stream",
          "name": "stdout",
          "text": [
            "6000\n"
          ]
        }
      ]
    },
    {
      "cell_type": "code",
      "source": [],
      "metadata": {
        "id": "gMOoif-H9qxC"
      },
      "execution_count": null,
      "outputs": []
    }
  ]
}